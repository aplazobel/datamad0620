{
 "cells": [
  {
   "cell_type": "markdown",
   "metadata": {},
   "source": [
    "# Advanced Querying Mongo"
   ]
  },
  {
   "cell_type": "markdown",
   "metadata": {},
   "source": [
    "Importing libraries and setting up connection"
   ]
  },
  {
   "cell_type": "code",
   "execution_count": 2,
   "metadata": {},
   "outputs": [],
   "source": [
    "from pymongo import MongoClient\n",
    "dbName = \"companies\"\n",
    "mongodbURL = f\"mongodb://localhost/{dbName}\"\n",
    "\n",
    "client = MongoClient(mongodbURL, connectTimeoutMS=2000, serverSelectionTimeoutMS=2000)\n",
    "db = client.get_database()"
   ]
  },
  {
   "cell_type": "code",
   "execution_count": 31,
   "metadata": {},
   "outputs": [],
   "source": [
    "from pymongo import ASCENDING,DESCENDING"
   ]
  },
  {
   "cell_type": "markdown",
   "metadata": {},
   "source": [
    "### 1. All the companies whose name match 'Babelgum'. Retrieve only their `name` field."
   ]
  },
  {
   "cell_type": "code",
   "execution_count": 26,
   "metadata": {},
   "outputs": [
    {
     "data": {
      "text/plain": [
       "[{'_id': ObjectId('52cdef7c4bab8bd675297da0'), 'name': 'Babelgum'}]"
      ]
     },
     "execution_count": 26,
     "metadata": {},
     "output_type": "execute_result"
    }
   ],
   "source": [
    "query={\"name\":{\"$eq\":\"Babelgum\"}}\n",
    "list(db.companies.find(query, {\"name\":1,}))"
   ]
  },
  {
   "cell_type": "markdown",
   "metadata": {},
   "source": [
    "### 2. All the companies that have more than 5000 employees. Limit the search to 20 companies and sort them by **number of employees**."
   ]
  },
  {
   "cell_type": "code",
   "execution_count": 19,
   "metadata": {},
   "outputs": [
    {
     "data": {
      "text/plain": [
       "[{'_id': ObjectId('52cdef7c4bab8bd675297d8e'), 'name': 'Facebook'},\n",
       " {'_id': ObjectId('52cdef7c4bab8bd675297d9b'), 'name': 'eBay'},\n",
       " {'_id': ObjectId('52cdef7c4bab8bd675297dc4'), 'name': 'Intel'},\n",
       " {'_id': ObjectId('52cdef7c4bab8bd675297da2'), 'name': 'Cisco'},\n",
       " {'_id': ObjectId('52cdef7c4bab8bd675297da3'), 'name': 'Yahoo!'},\n",
       " {'_id': ObjectId('52cdef7c4bab8bd675297e49'), 'name': 'Nintendo'},\n",
       " {'_id': ObjectId('52cdef7c4bab8bd675297e6f'), 'name': 'Sony'},\n",
       " {'_id': ObjectId('52cdef7c4bab8bd675297dba'), 'name': 'Google'},\n",
       " {'_id': ObjectId('52cdef7c4bab8bd675297e5d'), 'name': 'Adobe Systems'},\n",
       " {'_id': ObjectId('52cdef7c4bab8bd675297e8e'),\n",
       "  'name': 'The Walt Disney Company'},\n",
       " {'_id': ObjectId('52cdef7c4bab8bd675297e89'), 'name': 'PayPal'},\n",
       " {'_id': ObjectId('52cdef7c4bab8bd675297ea4'), 'name': 'Webkinz'},\n",
       " {'_id': ObjectId('52cdef7c4bab8bd675297e96'), 'name': 'AOL'},\n",
       " {'_id': ObjectId('52cdef7c4bab8bd675297ee9'), 'name': 'Sun Microsystems'},\n",
       " {'_id': ObjectId('52cdef7c4bab8bd675297fcb'), 'name': 'Rakuten'},\n",
       " {'_id': ObjectId('52cdef7c4bab8bd675297fc2'), 'name': 'Nokia'},\n",
       " {'_id': ObjectId('52cdef7c4bab8bd67529809d'), 'name': 'Microsoft'},\n",
       " {'_id': ObjectId('52cdef7c4bab8bd675298189'), 'name': 'Apple'},\n",
       " {'_id': ObjectId('52cdef7c4bab8bd6752981b5'), 'name': 'NetApp'},\n",
       " {'_id': ObjectId('52cdef7c4bab8bd67529821b'), 'name': 'Motorola Solutions'}]"
      ]
     },
     "execution_count": 19,
     "metadata": {},
     "output_type": "execute_result"
    }
   ],
   "source": [
    "query={\"number_of_employees\":{\"$gt\":5000}}\n",
    "cur = list(db.companies.find(query, {\"name\":1}))\n",
    "cur[:20]"
   ]
  },
  {
   "cell_type": "markdown",
   "metadata": {},
   "source": [
    "### 3. All the companies founded between 2000 and 2005, both years included. Retrieve only the `name` and `founded_year` fields."
   ]
  },
  {
   "cell_type": "code",
   "execution_count": 24,
   "metadata": {},
   "outputs": [
    {
     "data": {
      "text/plain": [
       "[{'_id': ObjectId('52cdef7c4bab8bd675297d8a'),\n",
       "  'name': 'Wetpaint',\n",
       "  'founded_year': 2005},\n",
       " {'_id': ObjectId('52cdef7c4bab8bd675297d8c'),\n",
       "  'name': 'Zoho',\n",
       "  'founded_year': 2005},\n",
       " {'_id': ObjectId('52cdef7c4bab8bd675297d8f'),\n",
       "  'name': 'Omnidrive',\n",
       "  'founded_year': 2005},\n",
       " {'_id': ObjectId('52cdef7c4bab8bd675297d8d'),\n",
       "  'name': 'Digg',\n",
       "  'founded_year': 2004},\n",
       " {'_id': ObjectId('52cdef7c4bab8bd675297d96'),\n",
       "  'name': 'Gizmoz',\n",
       "  'founded_year': 2003},\n",
       " {'_id': ObjectId('52cdef7c4bab8bd675297d9a'),\n",
       "  'name': 'Helio',\n",
       "  'founded_year': 2005},\n",
       " {'_id': ObjectId('52cdef7c4bab8bd675297d95'),\n",
       "  'name': 'StumbleUpon',\n",
       "  'founded_year': 2002},\n",
       " {'_id': ObjectId('52cdef7c4bab8bd675297da1'),\n",
       "  'name': 'Plaxo',\n",
       "  'founded_year': 2002},\n",
       " {'_id': ObjectId('52cdef7c4bab8bd675297da5'),\n",
       "  'name': 'Technorati',\n",
       "  'founded_year': 2002},\n",
       " {'_id': ObjectId('52cdef7c4bab8bd675297d8e'),\n",
       "  'name': 'Facebook',\n",
       "  'founded_year': 2004},\n",
       " {'_id': ObjectId('52cdef7c4bab8bd675297dac'),\n",
       "  'name': 'Veoh',\n",
       "  'founded_year': 2004},\n",
       " {'_id': ObjectId('52cdef7c4bab8bd675297da7'),\n",
       "  'name': 'AddThis',\n",
       "  'founded_year': 2004},\n",
       " {'_id': ObjectId('52cdef7c4bab8bd675297db6'),\n",
       "  'name': 'Wesabe',\n",
       "  'founded_year': 2005},\n",
       " {'_id': ObjectId('52cdef7c4bab8bd675297db2'),\n",
       "  'name': 'Meetup',\n",
       "  'founded_year': 2002},\n",
       " {'_id': ObjectId('52cdef7c4bab8bd675297daf'),\n",
       "  'name': 'Jingle Networks',\n",
       "  'founded_year': 2005},\n",
       " {'_id': ObjectId('52cdef7c4bab8bd675297db7'),\n",
       "  'name': 'Jangl SMS',\n",
       "  'founded_year': 2005},\n",
       " {'_id': ObjectId('52cdef7c4bab8bd675297db8'),\n",
       "  'name': 'SmugMug',\n",
       "  'founded_year': 2002},\n",
       " {'_id': ObjectId('52cdef7c4bab8bd675297db5'),\n",
       "  'name': 'LifeLock',\n",
       "  'founded_year': 2005},\n",
       " {'_id': ObjectId('52cdef7c4bab8bd675297dbb'),\n",
       "  'name': 'Jajah',\n",
       "  'founded_year': 2005},\n",
       " {'_id': ObjectId('52cdef7c4bab8bd675297dc3'),\n",
       "  'name': 'Pando Networks',\n",
       "  'founded_year': 2004}]"
      ]
     },
     "execution_count": 24,
     "metadata": {},
     "output_type": "execute_result"
    }
   ],
   "source": [
    "query = {\n",
    "    \"$and\":[\n",
    "        {\"founded_year\":{\"$gte\":2000}},\n",
    "        {\"founded_year\":{\"$lte\":2005}}\n",
    "    ]\n",
    "}\n",
    "\n",
    "cur = list(db.companies.find(query, {\"name\":1,\"founded_year\":1}))\n",
    "cur[:20]"
   ]
  },
  {
   "cell_type": "markdown",
   "metadata": {},
   "source": [
    "### 4. All the companies that had a Valuation Amount of more than 100.000.000 and have been founded before 2010. Retrieve only the `name` and `ipo` fields."
   ]
  },
  {
   "cell_type": "code",
   "execution_count": 30,
   "metadata": {},
   "outputs": [
    {
     "data": {
      "text/plain": [
       "[{'_id': ObjectId('52cdef7c4bab8bd675297d94'),\n",
       "  'name': 'Twitter',\n",
       "  'ipo': {'valuation_amount': 18100000000,\n",
       "   'valuation_currency_code': 'USD',\n",
       "   'pub_year': 2013,\n",
       "   'pub_month': 11,\n",
       "   'pub_day': 7,\n",
       "   'stock_symbol': 'NYSE:TWTR'}},\n",
       " {'_id': ObjectId('52cdef7c4bab8bd675297d8e'),\n",
       "  'name': 'Facebook',\n",
       "  'ipo': {'valuation_amount': 104000000000,\n",
       "   'valuation_currency_code': 'USD',\n",
       "   'pub_year': 2012,\n",
       "   'pub_month': 5,\n",
       "   'pub_day': 18,\n",
       "   'stock_symbol': 'NASDAQ:FB'}},\n",
       " {'_id': ObjectId('52cdef7c4bab8bd675297de0'),\n",
       "  'name': 'Yelp',\n",
       "  'ipo': {'valuation_amount': 1300000000,\n",
       "   'valuation_currency_code': 'USD',\n",
       "   'pub_year': 2012,\n",
       "   'pub_month': 3,\n",
       "   'pub_day': 2,\n",
       "   'stock_symbol': 'NYSE:YELP'}},\n",
       " {'_id': ObjectId('52cdef7c4bab8bd675297e0c'),\n",
       "  'name': 'LinkedIn',\n",
       "  'ipo': {'valuation_amount': 9310000000,\n",
       "   'valuation_currency_code': 'USD',\n",
       "   'pub_year': 2011,\n",
       "   'pub_month': 7,\n",
       "   'pub_day': 20,\n",
       "   'stock_symbol': 'NYSE:LNKD'}},\n",
       " {'_id': ObjectId('52cdef7c4bab8bd675297e81'),\n",
       "  'name': 'Brightcove',\n",
       "  'ipo': {'valuation_amount': 290000000,\n",
       "   'valuation_currency_code': 'USD',\n",
       "   'pub_year': 2012,\n",
       "   'pub_month': 2,\n",
       "   'pub_day': 17,\n",
       "   'stock_symbol': 'NASDAQ:BCOV'}},\n",
       " {'_id': ObjectId('52cdef7c4bab8bd675297e7a'),\n",
       "  'name': 'Amazon',\n",
       "  'ipo': {'valuation_amount': 100000000000,\n",
       "   'valuation_currency_code': 'USD',\n",
       "   'pub_year': 1997,\n",
       "   'pub_month': 5,\n",
       "   'pub_day': None,\n",
       "   'stock_symbol': 'NASDAQ:AMZN'}},\n",
       " {'_id': ObjectId('52cdef7c4bab8bd675297ee5'),\n",
       "  'name': 'KIT digital',\n",
       "  'ipo': {'valuation_amount': 235000000,\n",
       "   'valuation_currency_code': 'USD',\n",
       "   'pub_year': 2010,\n",
       "   'pub_month': 7,\n",
       "   'pub_day': 27,\n",
       "   'stock_symbol': 'KITD'}},\n",
       " {'_id': ObjectId('52cdef7c4bab8bd675297f15'),\n",
       "  'name': 'Nielsen',\n",
       "  'ipo': {'valuation_amount': 1600000000,\n",
       "   'valuation_currency_code': 'USD',\n",
       "   'pub_year': 2011,\n",
       "   'pub_month': 1,\n",
       "   'pub_day': 26,\n",
       "   'stock_symbol': 'NYSE:NLSN'}},\n",
       " {'_id': ObjectId('52cdef7c4bab8bd675297f36'),\n",
       "  'name': 'OpenTable',\n",
       "  'ipo': {'valuation_amount': 1050000000,\n",
       "   'valuation_currency_code': 'USD',\n",
       "   'pub_year': 2009,\n",
       "   'pub_month': 5,\n",
       "   'pub_day': 21,\n",
       "   'stock_symbol': 'NASDAQ:OPEN'}},\n",
       " {'_id': ObjectId('52cdef7c4bab8bd675297f42'),\n",
       "  'name': 'ChannelAdvisor',\n",
       "  'ipo': {'valuation_amount': 287000000,\n",
       "   'valuation_currency_code': 'USD',\n",
       "   'pub_year': 2013,\n",
       "   'pub_month': 5,\n",
       "   'pub_day': 23,\n",
       "   'stock_symbol': 'NYSE:ECOM'}},\n",
       " {'_id': ObjectId('52cdef7c4bab8bd675297f95'),\n",
       "  'name': 'Jive Software',\n",
       "  'ipo': {'valuation_amount': 1000000000,\n",
       "   'valuation_currency_code': 'USD',\n",
       "   'pub_year': 2012,\n",
       "   'pub_month': 2,\n",
       "   'pub_day': 3,\n",
       "   'stock_symbol': 'NASDAQ:JIVE'}},\n",
       " {'_id': ObjectId('52cdef7c4bab8bd67529800c'),\n",
       "  'name': 'Zillow',\n",
       "  'ipo': {'valuation_amount': 2550000000,\n",
       "   'valuation_currency_code': 'USD',\n",
       "   'pub_year': 2011,\n",
       "   'pub_month': 7,\n",
       "   'pub_day': 19,\n",
       "   'stock_symbol': 'NASDAQ:Z'}},\n",
       " {'_id': ObjectId('52cdef7c4bab8bd67529805d'),\n",
       "  'name': 'Wix',\n",
       "  'ipo': {'valuation_amount': 750000000,\n",
       "   'valuation_currency_code': 'USD',\n",
       "   'pub_year': 2013,\n",
       "   'pub_month': 11,\n",
       "   'pub_day': 6,\n",
       "   'stock_symbol': 'NASDAQ:WIX'}},\n",
       " {'_id': ObjectId('52cdef7c4bab8bd675298112'),\n",
       "  'name': 'Shutterfly',\n",
       "  'ipo': {'valuation_amount': 350000000,\n",
       "   'valuation_currency_code': 'USD',\n",
       "   'pub_year': 2006,\n",
       "   'pub_month': 9,\n",
       "   'pub_day': 29,\n",
       "   'stock_symbol': 'SFLY'}},\n",
       " {'_id': ObjectId('52cdef7c4bab8bd6752981a7'),\n",
       "  'name': 'TripAdvisor',\n",
       "  'ipo': {'valuation_amount': 3273770000,\n",
       "   'valuation_currency_code': 'USD',\n",
       "   'pub_year': 2011,\n",
       "   'pub_month': 12,\n",
       "   'pub_day': 21,\n",
       "   'stock_symbol': 'TRIP'}},\n",
       " {'_id': ObjectId('52cdef7c4bab8bd67529823b'),\n",
       "  'name': 'Salesforce',\n",
       "  'ipo': {'valuation_amount': 110000000,\n",
       "   'valuation_currency_code': 'USD',\n",
       "   'pub_year': 2004,\n",
       "   'pub_month': 7,\n",
       "   'pub_day': 2,\n",
       "   'stock_symbol': 'NYSE:CRM'}},\n",
       " {'_id': ObjectId('52cdef7c4bab8bd6752982f6'),\n",
       "  'name': 'HomeAway',\n",
       "  'ipo': {'valuation_amount': 3000000000,\n",
       "   'valuation_currency_code': 'USD',\n",
       "   'pub_year': 2011,\n",
       "   'pub_month': 6,\n",
       "   'pub_day': 29,\n",
       "   'stock_symbol': 'NASDAQ:AWAY'}},\n",
       " {'_id': ObjectId('52cdef7c4bab8bd6752984e3'),\n",
       "  'name': 'QuinStreet',\n",
       "  'ipo': {'valuation_amount': 140000000,\n",
       "   'valuation_currency_code': 'USD',\n",
       "   'pub_year': 2010,\n",
       "   'pub_month': 1,\n",
       "   'pub_day': 11,\n",
       "   'stock_symbol': 'NASDAQ:QNST'}},\n",
       " {'_id': ObjectId('52cdef7c4bab8bd675298527'),\n",
       "  'name': 'Rackspace',\n",
       "  'ipo': {'valuation_amount': 5440000000,\n",
       "   'valuation_currency_code': 'USD',\n",
       "   'pub_year': 2011,\n",
       "   'pub_month': 11,\n",
       "   'pub_day': 7,\n",
       "   'stock_symbol': 'RAX'}},\n",
       " {'_id': ObjectId('52cdef7c4bab8bd67529859a'),\n",
       "  'name': 'BMC Software',\n",
       "  'ipo': {'valuation_amount': 6000000000,\n",
       "   'valuation_currency_code': 'USD',\n",
       "   'pub_year': 1988,\n",
       "   'pub_month': 8,\n",
       "   'pub_day': 12,\n",
       "   'stock_symbol': 'NASDAQ:BMC'}}]"
      ]
     },
     "execution_count": 30,
     "metadata": {},
     "output_type": "execute_result"
    }
   ],
   "source": [
    "query = {\n",
    "    \"$and\":[\n",
    "        {\"ipo.valuation_amount\":{\"$gt\":100000000}},\n",
    "        {\"founded_year\":{\"$lte\":2010}}\n",
    "    ]\n",
    "}\n",
    "cur = list(db.companies.find(query, {\"name\":1,\"ipo\":1}))\n",
    "cur[:20]"
   ]
  },
  {
   "cell_type": "markdown",
   "metadata": {},
   "source": [
    "### 5. All the companies that have less than 1000 employees and have been founded before 2005. Order them by the number of employees and limit the search to 10 companies."
   ]
  },
  {
   "cell_type": "code",
   "execution_count": 43,
   "metadata": {},
   "outputs": [
    {
     "data": {
      "text/plain": [
       "[{'_id': ObjectId('52cdef7d4bab8bd675298933'),\n",
       "  'name': 'Infinera Corporation',\n",
       "  'number_of_employees': 974},\n",
       " {'_id': ObjectId('52cdef7c4bab8bd675297e10'),\n",
       "  'name': 'Box',\n",
       "  'number_of_employees': 950},\n",
       " {'_id': ObjectId('52cdef7e4bab8bd67529ac95'),\n",
       "  'name': 'NorthPoint Communications Group',\n",
       "  'number_of_employees': 948},\n",
       " {'_id': ObjectId('52cdef7f4bab8bd67529be17'),\n",
       "  'name': '888 Holdings',\n",
       "  'number_of_employees': 931},\n",
       " {'_id': ObjectId('52cdef7c4bab8bd6752986a2'),\n",
       "  'name': 'Forrester Research',\n",
       "  'number_of_employees': 903},\n",
       " {'_id': ObjectId('52cdef7c4bab8bd6752984e9'),\n",
       "  'name': 'Workday',\n",
       "  'number_of_employees': 900},\n",
       " {'_id': ObjectId('52cdef7e4bab8bd67529af6d'),\n",
       "  'name': 'SonicWALL',\n",
       "  'number_of_employees': 900},\n",
       " {'_id': ObjectId('52cdef7e4bab8bd67529b21b'),\n",
       "  'name': 'Webmetrics',\n",
       "  'number_of_employees': 900},\n",
       " {'_id': ObjectId('52cdef7e4bab8bd67529b3bd'),\n",
       "  'name': 'Cornerstone OnDemand',\n",
       "  'number_of_employees': 881},\n",
       " {'_id': ObjectId('52cdef7c4bab8bd675297de0'),\n",
       "  'name': 'Yelp',\n",
       "  'number_of_employees': 800}]"
      ]
     },
     "execution_count": 43,
     "metadata": {},
     "output_type": "execute_result"
    }
   ],
   "source": [
    "query = {\n",
    "    \"$and\":[\n",
    "        {\"number_of_employees\":{\"$lt\":1000}},\n",
    "        {\"founded_year\":{\"$lte\":2005}}\n",
    "    ]\n",
    "}\n",
    "cur = list(db.companies.find(query,{\"name\":1,\"number_of_employees\":1}).sort(\"number_of_employees\",DESCENDING))\n",
    "cur[:10]"
   ]
  },
  {
   "cell_type": "markdown",
   "metadata": {},
   "source": [
    "### 6. All the companies that don't include the `partners` field."
   ]
  },
  {
   "cell_type": "code",
   "execution_count": 48,
   "metadata": {},
   "outputs": [
    {
     "data": {
      "text/plain": [
       "[{'_id': ObjectId('52cdef7c4bab8bd675297d8b'), 'name': 'AdventNet'},\n",
       " {'_id': ObjectId('52cdef7c4bab8bd675297d8a'), 'name': 'Wetpaint'},\n",
       " {'_id': ObjectId('52cdef7c4bab8bd675297d8c'), 'name': 'Zoho'},\n",
       " {'_id': ObjectId('52cdef7c4bab8bd675297d8f'), 'name': 'Omnidrive'},\n",
       " {'_id': ObjectId('52cdef7c4bab8bd675297d92'), 'name': 'Flektor'},\n",
       " {'_id': ObjectId('52cdef7c4bab8bd675297d90'), 'name': 'Postini'},\n",
       " {'_id': ObjectId('52cdef7c4bab8bd675297d8d'), 'name': 'Digg'},\n",
       " {'_id': ObjectId('52cdef7c4bab8bd675297d91'), 'name': 'Geni'},\n",
       " {'_id': ObjectId('52cdef7c4bab8bd675297d96'), 'name': 'Gizmoz'},\n",
       " {'_id': ObjectId('52cdef7c4bab8bd675297d9a'), 'name': 'Helio'}]"
      ]
     },
     "execution_count": 48,
     "metadata": {},
     "output_type": "execute_result"
    }
   ],
   "source": [
    "query={\"partners\":{\"$nin\":[]}}\n",
    "cur = list(db.companies.find(query,{\"name\":1}))\n",
    "cur[:10]"
   ]
  },
  {
   "cell_type": "markdown",
   "metadata": {},
   "source": [
    "### 7. All the companies that have a null type of value on the `category_code` field."
   ]
  },
  {
   "cell_type": "code",
   "execution_count": 57,
   "metadata": {},
   "outputs": [
    {
     "data": {
      "text/plain": [
       "[{'_id': ObjectId('52cdef7c4bab8bd6752980f6'), 'name': 'Collective'},\n",
       " {'_id': ObjectId('52cdef7c4bab8bd675298225'), 'name': 'Snimmer'},\n",
       " {'_id': ObjectId('52cdef7c4bab8bd675298226'), 'name': 'KoolIM'},\n",
       " {'_id': ObjectId('52cdef7c4bab8bd675298261'), 'name': 'Level9 Media'},\n",
       " {'_id': ObjectId('52cdef7c4bab8bd675298262'), 'name': 'VidKing'},\n",
       " {'_id': ObjectId('52cdef7c4bab8bd67529826e'), 'name': 'Drigg'},\n",
       " {'_id': ObjectId('52cdef7c4bab8bd675298276'), 'name': 'SpaceTime'},\n",
       " {'_id': ObjectId('52cdef7c4bab8bd67529827a'), 'name': 'MMDAYS'},\n",
       " {'_id': ObjectId('52cdef7c4bab8bd67529827b'), 'name': 'Inside Group'},\n",
       " {'_id': ObjectId('52cdef7c4bab8bd675298279'), 'name': 'Touch Clarity'},\n",
       " {'_id': ObjectId('52cdef7c4bab8bd67529827e'), 'name': 'Repeater Store'},\n",
       " {'_id': ObjectId('52cdef7c4bab8bd675298288'), 'name': 'Tapesh'},\n",
       " {'_id': ObjectId('52cdef7c4bab8bd675298289'), 'name': 'iPersians'},\n",
       " {'_id': ObjectId('52cdef7c4bab8bd67529828a'), 'name': 'NewPersia'},\n",
       " {'_id': ObjectId('52cdef7c4bab8bd6752982ab'), 'name': 'Pyra Labs'},\n",
       " {'_id': ObjectId('52cdef7c4bab8bd6752982b3'), 'name': 'Feedmap'},\n",
       " {'_id': ObjectId('52cdef7c4bab8bd6752982e0'), 'name': 'NuvoMedia'},\n",
       " {'_id': ObjectId('52cdef7c4bab8bd6752982e4'), 'name': 'Intwine'},\n",
       " {'_id': ObjectId('52cdef7c4bab8bd6752982ef'),\n",
       "  'name': 'The Weinstein Company'},\n",
       " {'_id': ObjectId('52cdef7c4bab8bd6752982f2'), 'name': 'ExecuNet'}]"
      ]
     },
     "execution_count": 57,
     "metadata": {},
     "output_type": "execute_result"
    }
   ],
   "source": [
    "query={ \"category_code\" : { \"$type\": 10 } }\n",
    "cur = list(db.companies.find(query,{\"name\":1}))\n",
    "cur[:20]"
   ]
  },
  {
   "cell_type": "markdown",
   "metadata": {},
   "source": [
    "### 8. All the companies that have at least 100 employees but less than 1000. Retrieve only the `name` and `number of employees` fields."
   ]
  },
  {
   "cell_type": "code",
   "execution_count": 58,
   "metadata": {},
   "outputs": [
    {
     "data": {
      "text/plain": [
       "[{'_id': ObjectId('52cdef7c4bab8bd675297d8b'),\n",
       "  'name': 'AdventNet',\n",
       "  'number_of_employees': 600},\n",
       " {'_id': ObjectId('52cdef7c4bab8bd675297da7'),\n",
       "  'name': 'AddThis',\n",
       "  'number_of_employees': 120},\n",
       " {'_id': ObjectId('52cdef7c4bab8bd675297da8'),\n",
       "  'name': 'OpenX',\n",
       "  'number_of_employees': 305},\n",
       " {'_id': ObjectId('52cdef7c4bab8bd675297db5'),\n",
       "  'name': 'LifeLock',\n",
       "  'number_of_employees': 644},\n",
       " {'_id': ObjectId('52cdef7c4bab8bd675297dbb'),\n",
       "  'name': 'Jajah',\n",
       "  'number_of_employees': 110},\n",
       " {'_id': ObjectId('52cdef7c4bab8bd675297dc0'),\n",
       "  'name': 'Livestream',\n",
       "  'number_of_employees': 120},\n",
       " {'_id': ObjectId('52cdef7c4bab8bd675297dc1'),\n",
       "  'name': 'Ustream',\n",
       "  'number_of_employees': 250},\n",
       " {'_id': ObjectId('52cdef7c4bab8bd675297dda'),\n",
       "  'name': 'iContact',\n",
       "  'number_of_employees': 300},\n",
       " {'_id': ObjectId('52cdef7c4bab8bd675297de0'),\n",
       "  'name': 'Yelp',\n",
       "  'number_of_employees': 800},\n",
       " {'_id': ObjectId('52cdef7c4bab8bd675297df0'),\n",
       "  'name': 'RockYou',\n",
       "  'number_of_employees': 106}]"
      ]
     },
     "execution_count": 58,
     "metadata": {},
     "output_type": "execute_result"
    }
   ],
   "source": [
    "query = {\n",
    "    \"$and\":[\n",
    "        {\"number_of_employees\":{\"$gte\":100}},\n",
    "        {\"number_of_employees\":{\"$lte\":1000}}\n",
    "    ]\n",
    "}\n",
    "cur = list(db.companies.find(query,{\"name\":1,\"number_of_employees\":1}))\n",
    "cur[:10]"
   ]
  },
  {
   "cell_type": "markdown",
   "metadata": {},
   "source": [
    "### 9. Order all the companies by their IPO price in a descending order."
   ]
  },
  {
   "cell_type": "code",
   "execution_count": 66,
   "metadata": {},
   "outputs": [
    {
     "data": {
      "text/plain": [
       "[{'_id': ObjectId('52cdef7e4bab8bd67529a8b4'), 'name': 'GREE'},\n",
       " {'_id': ObjectId('52cdef7c4bab8bd675297d8e'), 'name': 'Facebook'},\n",
       " {'_id': ObjectId('52cdef7c4bab8bd675297e7a'), 'name': 'Amazon'},\n",
       " {'_id': ObjectId('52cdef7c4bab8bd675297d94'), 'name': 'Twitter'},\n",
       " {'_id': ObjectId('52cdef7d4bab8bd675299d5d'), 'name': 'Groupon'},\n",
       " {'_id': ObjectId('52cdef7c4bab8bd675298674'), 'name': 'Tencent'},\n",
       " {'_id': ObjectId('52cdef7e4bab8bd67529b996'), 'name': 'Western Digital'},\n",
       " {'_id': ObjectId('52cdef7c4bab8bd675297e0c'), 'name': 'LinkedIn'},\n",
       " {'_id': ObjectId('52cdef7c4bab8bd67529859a'), 'name': 'BMC Software'},\n",
       " {'_id': ObjectId('52cdef7c4bab8bd675298527'), 'name': 'Rackspace'},\n",
       " {'_id': ObjectId('52cdef7c4bab8bd675298760'), 'name': 'Baidu'},\n",
       " {'_id': ObjectId('52cdef7c4bab8bd6752981a7'), 'name': 'TripAdvisor'},\n",
       " {'_id': ObjectId('52cdef7c4bab8bd6752982f6'), 'name': 'HomeAway'},\n",
       " {'_id': ObjectId('52cdef7c4bab8bd67529800c'), 'name': 'Zillow'},\n",
       " {'_id': ObjectId('52cdef7c4bab8bd675297f15'), 'name': 'Nielsen'},\n",
       " {'_id': ObjectId('52cdef7c4bab8bd675297de0'), 'name': 'Yelp'},\n",
       " {'_id': ObjectId('52cdef7d4bab8bd67529984e'), 'name': 'Chegg'},\n",
       " {'_id': ObjectId('52cdef7d4bab8bd675299bd8'), 'name': 'Chegg'},\n",
       " {'_id': ObjectId('52cdef7e4bab8bd67529a415'), 'name': 'RPX Corporation'},\n",
       " {'_id': ObjectId('52cdef7c4bab8bd675298649'), 'name': 'Higher One'}]"
      ]
     },
     "execution_count": 66,
     "metadata": {},
     "output_type": "execute_result"
    }
   ],
   "source": [
    "query = {}\n",
    "cur = list(db.companies.find(query,{\"name\":1}).sort(\"ipo.valuation_amount\",DESCENDING).limit(20))\n",
    "cur[:20]"
   ]
  },
  {
   "cell_type": "markdown",
   "metadata": {},
   "source": [
    "### 10. Retrieve the 10 companies with more employees, order by the `number of employees`"
   ]
  },
  {
   "cell_type": "code",
   "execution_count": 70,
   "metadata": {},
   "outputs": [
    {
     "data": {
      "text/plain": [
       "[{'_id': ObjectId('52cdef7d4bab8bd67529941a'), 'name': 'Siemens'},\n",
       " {'_id': ObjectId('52cdef7c4bab8bd67529856a'), 'name': 'IBM'},\n",
       " {'_id': ObjectId('52cdef7d4bab8bd675299d33'), 'name': 'Toyota'},\n",
       " {'_id': ObjectId('52cdef7c4bab8bd675297e89'), 'name': 'PayPal'},\n",
       " {'_id': ObjectId('52cdef7e4bab8bd67529b0fe'),\n",
       "  'name': 'Nippon Telegraph and Telephone Corporation'},\n",
       " {'_id': ObjectId('52cdef7d4bab8bd675298aa4'), 'name': 'Samsung Electronics'},\n",
       " {'_id': ObjectId('52cdef7d4bab8bd675298b99'), 'name': 'Accenture'},\n",
       " {'_id': ObjectId('52cdef7e4bab8bd67529a657'),\n",
       "  'name': 'Tata Consultancy Services'},\n",
       " {'_id': ObjectId('52cdef7e4bab8bd67529aa51'),\n",
       "  'name': 'Flextronics International'},\n",
       " {'_id': ObjectId('52cdef7d4bab8bd675299156'), 'name': 'Safeway'}]"
      ]
     },
     "execution_count": 70,
     "metadata": {},
     "output_type": "execute_result"
    }
   ],
   "source": [
    "query = {}\n",
    "cur=list(db.companies.find(query,{\"name\":1}).sort([(\"number_of_employees\", DESCENDING)]).limit(10))\n",
    "cur"
   ]
  },
  {
   "cell_type": "markdown",
   "metadata": {},
   "source": [
    "### 11. All the companies founded on the second semester of the year. Limit your search to 1000 companies."
   ]
  },
  {
   "cell_type": "code",
   "execution_count": 71,
   "metadata": {},
   "outputs": [
    {
     "data": {
      "text/plain": [
       "[{'_id': ObjectId('52cdef7c4bab8bd675297d8a'), 'name': 'Wetpaint'},\n",
       " {'_id': ObjectId('52cdef7c4bab8bd675297d8c'), 'name': 'Zoho'},\n",
       " {'_id': ObjectId('52cdef7c4bab8bd675297d8f'), 'name': 'Omnidrive'},\n",
       " {'_id': ObjectId('52cdef7c4bab8bd675297d8d'), 'name': 'Digg'},\n",
       " {'_id': ObjectId('52cdef7c4bab8bd675297d9d'), 'name': 'Joost'},\n",
       " {'_id': ObjectId('52cdef7c4bab8bd675297da1'), 'name': 'Plaxo'},\n",
       " {'_id': ObjectId('52cdef7c4bab8bd675297da4'), 'name': 'Powerset'},\n",
       " {'_id': ObjectId('52cdef7c4bab8bd675297daf'), 'name': 'Jingle Networks'},\n",
       " {'_id': ObjectId('52cdef7c4bab8bd675297db8'), 'name': 'SmugMug'},\n",
       " {'_id': ObjectId('52cdef7c4bab8bd675297db5'), 'name': 'LifeLock'}]"
      ]
     },
     "execution_count": 71,
     "metadata": {},
     "output_type": "execute_result"
    }
   ],
   "source": [
    "query = {\"founded_month\":{\"$gte\":7,\"$lt\":12}}\n",
    "cur=list(db.companies.find(query,{\"name\":1}).limit(10))\n",
    "cur"
   ]
  },
  {
   "cell_type": "markdown",
   "metadata": {},
   "source": [
    "### 12. All the companies founded before 2000 that have an acquisition amount of more than 10.000.00"
   ]
  },
  {
   "cell_type": "code",
   "execution_count": 72,
   "metadata": {},
   "outputs": [
    {
     "data": {
      "text/plain": [
       "[{'_id': ObjectId('52cdef7c4bab8bd675297d90'), 'name': 'Postini'},\n",
       " {'_id': ObjectId('52cdef7c4bab8bd675297deb'), 'name': 'SideStep'},\n",
       " {'_id': ObjectId('52cdef7c4bab8bd675297e2c'), 'name': 'Recipezaar'},\n",
       " {'_id': ObjectId('52cdef7c4bab8bd675297e97'), 'name': 'Snapfish'},\n",
       " {'_id': ObjectId('52cdef7c4bab8bd675297e89'), 'name': 'PayPal'},\n",
       " {'_id': ObjectId('52cdef7c4bab8bd675297eaa'), 'name': 'Neopets'},\n",
       " {'_id': ObjectId('52cdef7c4bab8bd675297efe'), 'name': 'Zappos'},\n",
       " {'_id': ObjectId('52cdef7c4bab8bd675297f0c'), 'name': 'Alibaba'},\n",
       " {'_id': ObjectId('52cdef7c4bab8bd675297ee9'), 'name': 'Sun Microsystems'},\n",
       " {'_id': ObjectId('52cdef7c4bab8bd675297f29'), 'name': 'Lastminute'}]"
      ]
     },
     "execution_count": 72,
     "metadata": {},
     "output_type": "execute_result"
    }
   ],
   "source": [
    "query = {\"$and\":[{\"founded_year\":{\"$lt\":2000}},{\"acquisition.price_amount\":{\"$gt\" :10000000}}]}\n",
    "cur=list(db.companies.find(query,{\"name\":1}).limit(10))\n",
    "cur"
   ]
  },
  {
   "cell_type": "markdown",
   "metadata": {},
   "source": [
    "### 13. All the companies that have been acquired after 2010, order by the acquisition amount, and retrieve only their `name` and `acquisition` field."
   ]
  },
  {
   "cell_type": "code",
   "execution_count": 73,
   "metadata": {},
   "outputs": [
    {
     "data": {
      "text/plain": [
       "[{'_id': ObjectId('52cdef7c4bab8bd675298876'),\n",
       "  'name': 'T-Mobile',\n",
       "  'acquisition': {'price_amount': 39000000000,\n",
       "   'price_currency_code': 'USD',\n",
       "   'term_code': None,\n",
       "   'source_url': 'http://techcrunch.com/2011/03/20/in-the-race-for-more-spectrum-att-is-acquiring-t-mobile-for-39-billion/',\n",
       "   'source_description': 'In The Race For More Spectrum, AT&T Is Acquiring T-Mobile For $39 Billion',\n",
       "   'acquired_year': 2011,\n",
       "   'acquired_month': 3,\n",
       "   'acquired_day': 20,\n",
       "   'acquiring_company': {'name': 'AT&T', 'permalink': 'at-t'}}},\n",
       " {'_id': ObjectId('52cdef7f4bab8bd67529c228'),\n",
       "  'name': 'Goodrich Corporation',\n",
       "  'acquisition': {'price_amount': 18400000000,\n",
       "   'price_currency_code': 'USD',\n",
       "   'term_code': None,\n",
       "   'source_url': 'http://www.masshightech.com/stories/2011/09/19/daily37-UTC-shells-out-184-billion-for-Goodrich.html',\n",
       "   'source_description': 'UTC shells out $18.4 billion for Goodrich',\n",
       "   'acquired_year': 2011,\n",
       "   'acquired_month': 9,\n",
       "   'acquired_day': 22,\n",
       "   'acquiring_company': {'name': 'United Technologies',\n",
       "    'permalink': 'united-technologies'}}},\n",
       " {'_id': ObjectId('52cdef7d4bab8bd675298b89'),\n",
       "  'name': 'LSI',\n",
       "  'acquisition': {'price_amount': 6600000000,\n",
       "   'price_currency_code': 'USD',\n",
       "   'term_code': 'cash',\n",
       "   'source_url': 'http://dealbook.nytimes.com/2013/12/16/avago-to-buy-lsi-for-6-6-billion/?_r=0',\n",
       "   'source_description': 'Avago to Buy LSI for $6.6 Billion',\n",
       "   'acquired_year': 2013,\n",
       "   'acquired_month': 12,\n",
       "   'acquired_day': 16,\n",
       "   'acquiring_company': {'name': 'Avago Technologies',\n",
       "    'permalink': 'avago-technologies'}}},\n",
       " {'_id': ObjectId('52cdef7e4bab8bd67529a2b5'),\n",
       "  'name': 'National Semiconductor',\n",
       "  'acquisition': {'price_amount': 6500000000,\n",
       "   'price_currency_code': 'USD',\n",
       "   'term_code': 'cash',\n",
       "   'source_url': 'http://www.national.com/news/item/0,1735,1522,00.html',\n",
       "   'source_description': 'TI to acquire National Semiconductor Complementary portfolios are foundation for growth',\n",
       "   'acquired_year': 2011,\n",
       "   'acquired_month': 4,\n",
       "   'acquired_day': 4,\n",
       "   'acquiring_company': {'name': 'Texas Instruments',\n",
       "    'permalink': 'texas-instruments'}}},\n",
       " {'_id': ObjectId('52cdef7d4bab8bd675298935'),\n",
       "  'name': 'Ariba',\n",
       "  'acquisition': {'price_amount': 4300000000,\n",
       "   'price_currency_code': 'USD',\n",
       "   'term_code': None,\n",
       "   'source_url': 'http://techcrunch.com/2012/05/22/sap-to-acquire-ariba-for-4-3-billion/',\n",
       "   'source_description': 'SAP To Acquire Ariba For $4.3 Billion',\n",
       "   'acquired_year': 2012,\n",
       "   'acquired_month': 5,\n",
       "   'acquired_day': 22,\n",
       "   'acquiring_company': {'name': 'SAP', 'permalink': 'sap'}}},\n",
       " {'_id': ObjectId('52cdef7f4bab8bd67529bff7'),\n",
       "  'name': 'NetLogic Microsystems',\n",
       "  'acquisition': {'price_amount': 3700000000,\n",
       "   'price_currency_code': 'USD',\n",
       "   'term_code': 'cash_and_stock',\n",
       "   'source_url': 'http://techcrunch.com/2011/09/12/broadcom-buys-chipmaker-netlogic-for-3-7-billion/',\n",
       "   'source_description': 'Broadcom Buys Chipmaking Technology Company Netlogic For $3.7 Billion',\n",
       "   'acquired_year': 2011,\n",
       "   'acquired_month': 9,\n",
       "   'acquired_day': 12,\n",
       "   'acquiring_company': {'name': 'Broadcom', 'permalink': 'broadcom'}}},\n",
       " {'_id': ObjectId('52cdef7c4bab8bd6752981d6'),\n",
       "  'name': 'SuccessFactors',\n",
       "  'acquisition': {'price_amount': 3400000000,\n",
       "   'price_currency_code': 'USD',\n",
       "   'term_code': None,\n",
       "   'source_url': 'http://techcrunch.com/2012/02/22/successfactors-sap/',\n",
       "   'source_description': 'After Closing $3.4B Acquisition Of SuccessFactors, SAP Pushes Human Capital Management In The Cloud',\n",
       "   'acquired_year': 2012,\n",
       "   'acquired_month': 2,\n",
       "   'acquired_day': 22,\n",
       "   'acquiring_company': {'name': 'SAP', 'permalink': 'sap'}}},\n",
       " {'_id': ObjectId('52cdef7e4bab8bd67529aba6'),\n",
       "  'name': 'Qualcomm Atheros',\n",
       "  'acquisition': {'price_amount': 3100000000,\n",
       "   'price_currency_code': 'USD',\n",
       "   'term_code': 'stock',\n",
       "   'source_url': 'http://www.sdbj.com/news/2011/may/24/qualcomm-brings-atheros-fold/',\n",
       "   'source_description': 'Qualcomm Brings Atheros Into the Fold',\n",
       "   'acquired_year': 2011,\n",
       "   'acquired_month': 5,\n",
       "   'acquired_day': 5,\n",
       "   'acquiring_company': {'name': 'Qualcomm', 'permalink': 'qualcomm'}}},\n",
       " {'_id': ObjectId('52cdef7d4bab8bd675299727'),\n",
       "  'name': 'Global Crossing',\n",
       "  'acquisition': {'price_amount': 3000000000,\n",
       "   'price_currency_code': 'USD',\n",
       "   'term_code': 'stock',\n",
       "   'source_url': 'http://techcrunch.com/2011/04/11/level-3-to-acquire-global-crossing-for-3-billion-in-stock/',\n",
       "   'source_description': 'Level 3 To Acquire Global Crossing For $3 Billion In Stock',\n",
       "   'acquired_year': 2011,\n",
       "   'acquired_month': 4,\n",
       "   'acquired_day': 11,\n",
       "   'acquiring_company': {'name': 'Level 3 Communications',\n",
       "    'permalink': 'level-3'}}},\n",
       " {'_id': ObjectId('52cdef7d4bab8bd675299ab1'),\n",
       "  'name': 'Global Crossing',\n",
       "  'acquisition': {'price_amount': 3000000000,\n",
       "   'price_currency_code': 'USD',\n",
       "   'term_code': 'stock',\n",
       "   'source_url': 'http://techcrunch.com/2011/04/11/level-3-to-acquire-global-crossing-for-3-billion-in-stock/',\n",
       "   'source_description': 'Level 3 To Acquire Global Crossing For $3 Billion In Stock',\n",
       "   'acquired_year': 2011,\n",
       "   'acquired_month': 4,\n",
       "   'acquired_day': 11,\n",
       "   'acquiring_company': {'name': 'Level 3 Communications',\n",
       "    'permalink': 'level-3'}}}]"
      ]
     },
     "execution_count": 73,
     "metadata": {},
     "output_type": "execute_result"
    }
   ],
   "source": [
    "query = {\"acquisition.acquired_year\":{\"$gt\":2010}}\n",
    "cur=list(db.companies.find(query,{\"name\":1, \"acquisition\":1}).sort([(\"acquisition.price_amount\", DESCENDING)]).limit(10))\n",
    "cur"
   ]
  },
  {
   "cell_type": "markdown",
   "metadata": {},
   "source": [
    "### 14. Order the companies by their `founded year`, retrieving only their `name` and `founded year`."
   ]
  },
  {
   "cell_type": "code",
   "execution_count": 77,
   "metadata": {},
   "outputs": [
    {
     "data": {
      "text/plain": [
       "[{'_id': ObjectId('52cdef7c4bab8bd675297fec'),\n",
       "  'name': 'Fixya',\n",
       "  'founded_year': 2013},\n",
       " {'_id': ObjectId('52cdef7c4bab8bd67529801f'),\n",
       "  'name': 'Wamba',\n",
       "  'founded_year': 2013},\n",
       " {'_id': ObjectId('52cdef7c4bab8bd6752982d4'),\n",
       "  'name': 'Advaliant',\n",
       "  'founded_year': 2013},\n",
       " {'_id': ObjectId('52cdef7c4bab8bd67529830a'),\n",
       "  'name': 'Fluc',\n",
       "  'founded_year': 2013},\n",
       " {'_id': ObjectId('52cdef7d4bab8bd675298ea7'),\n",
       "  'name': 'iBazar',\n",
       "  'founded_year': 2013},\n",
       " {'_id': ObjectId('52cdef7d4bab8bd675298fe1'),\n",
       "  'name': 'Gimigo',\n",
       "  'founded_year': 2013},\n",
       " {'_id': ObjectId('52cdef7d4bab8bd675299291'),\n",
       "  'name': 'SEOGroup',\n",
       "  'founded_year': 2013},\n",
       " {'_id': ObjectId('52cdef7e4bab8bd67529a3b8'),\n",
       "  'name': 'Clowdy',\n",
       "  'founded_year': 2013},\n",
       " {'_id': ObjectId('52cdef7e4bab8bd67529a6e7'),\n",
       "  'name': 'WhosCall',\n",
       "  'founded_year': 2013},\n",
       " {'_id': ObjectId('52cdef7e4bab8bd67529b254'),\n",
       "  'name': 'Pikk',\n",
       "  'founded_year': 2013}]"
      ]
     },
     "execution_count": 77,
     "metadata": {},
     "output_type": "execute_result"
    }
   ],
   "source": [
    "query = {}\n",
    "cur=list(db.companies.find(query,{\"name\":1,\"founded_year\":1}).sort([(\"founded_year\", DESCENDING)]).limit(10))\n",
    "cur"
   ]
  },
  {
   "cell_type": "markdown",
   "metadata": {},
   "source": [
    "### 15. All the companies that have been founded on the first seven days of the month, including the seventh. Sort them by their `acquisition price` in a descending order. Limit the search to 10 documents."
   ]
  },
  {
   "cell_type": "code",
   "execution_count": 78,
   "metadata": {},
   "outputs": [
    {
     "data": {
      "text/plain": [
       "[{'_id': ObjectId('52cdef7d4bab8bd6752989a1'), 'name': 'Netscape'},\n",
       " {'_id': ObjectId('52cdef7c4bab8bd675297e89'), 'name': 'PayPal'},\n",
       " {'_id': ObjectId('52cdef7c4bab8bd675297efe'), 'name': 'Zappos'},\n",
       " {'_id': ObjectId('52cdef7c4bab8bd675297f0c'), 'name': 'Alibaba'},\n",
       " {'_id': ObjectId('52cdef7c4bab8bd675297d90'), 'name': 'Postini'},\n",
       " {'_id': ObjectId('52cdef7c4bab8bd67529831c'), 'name': 'Danger'},\n",
       " {'_id': ObjectId('52cdef7c4bab8bd675298651'), 'name': 'Clearwell Systems'},\n",
       " {'_id': ObjectId('52cdef7d4bab8bd6752989b8'), 'name': 'PrimeSense'},\n",
       " {'_id': ObjectId('52cdef7c4bab8bd675298207'), 'name': 'Amobee'},\n",
       " {'_id': ObjectId('52cdef7c4bab8bd675297ef1'), 'name': 'BlueLithium'}]"
      ]
     },
     "execution_count": 78,
     "metadata": {},
     "output_type": "execute_result"
    }
   ],
   "source": [
    "query = {\"founded_day\":{\"$lte\":7}}\n",
    "cur=list(db.companies.find(query,{\"name\":1}).sort([(\"acquisition.price_amount\", DESCENDING)]).limit(10))\n",
    "cur"
   ]
  },
  {
   "cell_type": "markdown",
   "metadata": {},
   "source": [
    "### 16. All the companies on the 'web' `category` that have more than 4000 employees. Sort them by the amount of employees in ascending order."
   ]
  },
  {
   "cell_type": "code",
   "execution_count": 81,
   "metadata": {},
   "outputs": [
    {
     "data": {
      "text/plain": [
       "[{'_id': ObjectId('52cdef7c4bab8bd67529822a'),\n",
       "  'name': 'Expedia',\n",
       "  'number_of_employees': 4400},\n",
       " {'_id': ObjectId('52cdef7c4bab8bd675297e96'),\n",
       "  'name': 'AOL',\n",
       "  'number_of_employees': 8000},\n",
       " {'_id': ObjectId('52cdef7c4bab8bd675297ea4'),\n",
       "  'name': 'Webkinz',\n",
       "  'number_of_employees': 8657},\n",
       " {'_id': ObjectId('52cdef7c4bab8bd675297fcb'),\n",
       "  'name': 'Rakuten',\n",
       "  'number_of_employees': 10000},\n",
       " {'_id': ObjectId('52cdef7c4bab8bd67529834c'),\n",
       "  'name': 'Los Angeles Times Media Group',\n",
       "  'number_of_employees': 10000},\n",
       " {'_id': ObjectId('52cdef7d4bab8bd675299d5d'),\n",
       "  'name': 'Groupon',\n",
       "  'number_of_employees': 10000},\n",
       " {'_id': ObjectId('52cdef7c4bab8bd675297da3'),\n",
       "  'name': 'Yahoo!',\n",
       "  'number_of_employees': 13600},\n",
       " {'_id': ObjectId('52cdef7c4bab8bd675297d9b'),\n",
       "  'name': 'eBay',\n",
       "  'number_of_employees': 15000},\n",
       " {'_id': ObjectId('52cdef7c4bab8bd6752982a8'),\n",
       "  'name': 'Experian',\n",
       "  'number_of_employees': 15500}]"
      ]
     },
     "execution_count": 81,
     "metadata": {},
     "output_type": "execute_result"
    }
   ],
   "source": [
    "query = {\"$and\":[{\"category_code\":{\"$eq\":\"web\"}},{\"number_of_employees\":{\"$gt\":4000}}]}\n",
    "cur=list(db.companies.find(query,{\"name\":1, \"number_of_employees\":1}).sort([(\"number_of_employees\", ASCENDING)]).limit(10))\n",
    "cur"
   ]
  },
  {
   "cell_type": "markdown",
   "metadata": {},
   "source": [
    "### 17. All the companies whose acquisition amount is more than 10.000.000, and currency is 'EUR'."
   ]
  },
  {
   "cell_type": "code",
   "execution_count": 84,
   "metadata": {},
   "outputs": [
    {
     "data": {
      "text/plain": [
       "[{'_id': ObjectId('52cdef7c4bab8bd675297f02'),\n",
       "  'name': 'ZYB',\n",
       "  'acquisition': {'price_amount': 31500000, 'price_currency_code': 'EUR'}},\n",
       " {'_id': ObjectId('52cdef7d4bab8bd675298bf3'),\n",
       "  'name': 'Apertio',\n",
       "  'acquisition': {'price_amount': 140000000, 'price_currency_code': 'EUR'}},\n",
       " {'_id': ObjectId('52cdef7d4bab8bd675298f47'),\n",
       "  'name': 'Greenfield Online',\n",
       "  'acquisition': {'price_amount': 40000000, 'price_currency_code': 'EUR'}},\n",
       " {'_id': ObjectId('52cdef7e4bab8bd67529a536'),\n",
       "  'name': 'Webedia',\n",
       "  'acquisition': {'price_amount': 70000000, 'price_currency_code': 'EUR'}},\n",
       " {'_id': ObjectId('52cdef7e4bab8bd67529a729'),\n",
       "  'name': 'Wayfinder',\n",
       "  'acquisition': {'price_amount': 24000000, 'price_currency_code': 'EUR'}},\n",
       " {'_id': ObjectId('52cdef7e4bab8bd67529b747'),\n",
       "  'name': 'Tuenti Technologies',\n",
       "  'acquisition': {'price_amount': 70000000, 'price_currency_code': 'EUR'}},\n",
       " {'_id': ObjectId('52cdef7f4bab8bd67529c0cf'),\n",
       "  'name': 'BioMed Central',\n",
       "  'acquisition': {'price_amount': 43400000, 'price_currency_code': 'EUR'}}]"
      ]
     },
     "execution_count": 84,
     "metadata": {},
     "output_type": "execute_result"
    }
   ],
   "source": [
    "query = {\"$and\":[{\"acquisition.price_amount\":{\"$gt\":10000000}},{\"acquisition.price_currency_code\":{\"$eq\":\"EUR\"}}]}\n",
    "cur=list(db.companies.find(query,{\"name\":1, \"acquisition.price_amount\":1, \"acquisition.price_currency_code\":1}).limit(10))\n",
    "cur"
   ]
  },
  {
   "cell_type": "markdown",
   "metadata": {},
   "source": [
    "### 18. All the companies that have been acquired on the first trimester of the year. Limit the search to 10 companies, and retrieve only their `name` and `acquisition` fields."
   ]
  },
  {
   "cell_type": "code",
   "execution_count": 89,
   "metadata": {},
   "outputs": [
    {
     "data": {
      "text/plain": [
       "[{'_id': ObjectId('52cdef7c4bab8bd675297dab'),\n",
       "  'name': 'Kyte',\n",
       "  'acquisition': {'price_amount': None,\n",
       "   'price_currency_code': 'USD',\n",
       "   'term_code': None,\n",
       "   'source_url': 'http://techcrunch.com/2011/01/31/exclusive-kit-digital-acquires-kickapps-kewego-and-kyte-for-77-2-million/',\n",
       "   'source_description': 'KIT digital Acquires KickApps, Kewego AND Kyte For $77.2 Million',\n",
       "   'acquired_year': 2011,\n",
       "   'acquired_month': 1,\n",
       "   'acquired_day': 31,\n",
       "   'acquiring_company': {'name': 'KIT digital', 'permalink': 'kit-digital'}}},\n",
       " {'_id': ObjectId('52cdef7c4bab8bd675297db4'),\n",
       "  'name': 'NetRatings',\n",
       "  'acquisition': {'price_amount': 327000000,\n",
       "   'price_currency_code': 'USD',\n",
       "   'term_code': 'cash',\n",
       "   'source_url': 'http://login.vnuemedia.com/hr/login/login_subscribe.jsp?id=0oqDem1gYIfIclz9i2%2Ffqj5NxCp2AC5DPbVnyT2da8GyV2mXjasabE128n69OrmcAh52%2FGE3pSG%2F%0AEKRYD9vh9EhrJrxukmUzh532fSMTZXL42gwPB80UWVtF1NwJ5UZSM%2BCkLU1mpYBoHFgiH%2Fi0f6Ax%0A9yMIVxt47t%2BHamhEQ0nkOEK24L',\n",
       "   'source_description': 'Nielsen buys rest of NetRatings',\n",
       "   'acquired_year': 2007,\n",
       "   'acquired_month': 2,\n",
       "   'acquired_day': None,\n",
       "   'acquiring_company': {'name': 'Nielsen', 'permalink': 'nielsen'}}},\n",
       " {'_id': ObjectId('52cdef7c4bab8bd675297dbf'),\n",
       "  'name': 'blogTV',\n",
       "  'acquisition': {'price_amount': None,\n",
       "   'price_currency_code': 'USD',\n",
       "   'term_code': None,\n",
       "   'source_url': 'http://techcrunch.com/2013/03/13/younow-buys-blogtv/',\n",
       "   'source_description': 'Live Social Video Network YouNow Acquires Streaming Service BlogTV',\n",
       "   'acquired_year': 2013,\n",
       "   'acquired_month': 3,\n",
       "   'acquired_day': 13,\n",
       "   'acquiring_company': {'name': 'YouNow', 'permalink': 'younow'}}},\n",
       " {'_id': ObjectId('52cdef7c4bab8bd675297dc0'),\n",
       "  'name': 'Livestream',\n",
       "  'acquisition': {'price_amount': None,\n",
       "   'price_currency_code': 'USD',\n",
       "   'term_code': 'cash_and_stock',\n",
       "   'source_url': '',\n",
       "   'source_description': 'company',\n",
       "   'acquired_year': 2008,\n",
       "   'acquired_month': 1,\n",
       "   'acquired_day': 1,\n",
       "   'acquiring_company': {'name': 'Adviqo', 'permalink': 'adviqo'}}},\n",
       " {'_id': ObjectId('52cdef7c4bab8bd675297dda'),\n",
       "  'name': 'iContact',\n",
       "  'acquisition': {'price_amount': 169000000,\n",
       "   'price_currency_code': 'USD',\n",
       "   'term_code': 'cash_and_stock',\n",
       "   'source_url': 'http://techcrunch.com/2012/02/28/vocus-buys-email-marketing-company-icontact-for-169-million/',\n",
       "   'source_description': 'Vocus Buys Email Marketing Company iContact For $169 Million',\n",
       "   'acquired_year': 2012,\n",
       "   'acquired_month': 2,\n",
       "   'acquired_day': 28,\n",
       "   'acquiring_company': {'name': 'Vocus', 'permalink': 'vocus'}}},\n",
       " {'_id': ObjectId('52cdef7c4bab8bd675297de8'),\n",
       "  'name': 'Coghead',\n",
       "  'acquisition': {'price_amount': None,\n",
       "   'price_currency_code': 'USD',\n",
       "   'term_code': None,\n",
       "   'source_url': 'http://www.techcrunch.com/2009/02/19/sap-acquires-cogheads-technology-as-it-looks-towards-the-cloud/',\n",
       "   'source_description': 'SAP Acquires Cogheadâ€™s Technology As It Looks Towards The Cloud',\n",
       "   'acquired_year': 2009,\n",
       "   'acquired_month': 2,\n",
       "   'acquired_day': 19,\n",
       "   'acquiring_company': {'name': 'SAP', 'permalink': 'sap'}}},\n",
       " {'_id': ObjectId('52cdef7c4bab8bd675297df4'),\n",
       "  'name': 'Netvibes',\n",
       "  'acquisition': {'price_amount': None,\n",
       "   'price_currency_code': 'USD',\n",
       "   'term_code': None,\n",
       "   'source_url': 'http://www.marketwatch.com/story/dassault-systemes-acquires-netvibes-2012-02-09',\n",
       "   'source_description': 'Dassault Systemes Acquires Netvibes',\n",
       "   'acquired_year': 2012,\n",
       "   'acquired_month': 2,\n",
       "   'acquired_day': 9,\n",
       "   'acquiring_company': {'name': 'Dassault Systemes',\n",
       "    'permalink': 'dassault'}}},\n",
       " {'_id': ObjectId('52cdef7c4bab8bd675297df8'),\n",
       "  'name': 'Flickr',\n",
       "  'acquisition': {'price_amount': None,\n",
       "   'price_currency_code': 'USD',\n",
       "   'term_code': 'cash_and_stock',\n",
       "   'source_url': 'http://news.cnet.com/Yahoo-buys-photo-sharing-site-Flickr/2100-1038_3-5627640.html?tag=mncol;txt',\n",
       "   'source_description': 'CNET',\n",
       "   'acquired_year': 2005,\n",
       "   'acquired_month': 3,\n",
       "   'acquired_day': None,\n",
       "   'acquiring_company': {'name': 'Yahoo!', 'permalink': 'yahoo'}}},\n",
       " {'_id': ObjectId('52cdef7c4bab8bd675297df9'),\n",
       "  'name': 'BabyCenter',\n",
       "  'acquisition': {'price_amount': None,\n",
       "   'price_currency_code': 'USD',\n",
       "   'term_code': None,\n",
       "   'source_url': 'http://www.investor.jnj.com/releasedetail.cfm?releaseid=63836',\n",
       "   'source_description': 'Johnson & Johnson Acquires BabyCenter From eToys, Inc. Leading Online Destination for Parents Plans for Continued Expansion of Operations',\n",
       "   'acquired_year': 2001,\n",
       "   'acquired_month': 3,\n",
       "   'acquired_day': 2,\n",
       "   'acquiring_company': {'name': 'Johnson & Johnson',\n",
       "    'permalink': 'johnson-johnson'}}},\n",
       " {'_id': ObjectId('52cdef7c4bab8bd675297dee'),\n",
       "  'name': 'Dailymotion',\n",
       "  'acquisition': {'price_amount': 168000000,\n",
       "   'price_currency_code': 'USD',\n",
       "   'term_code': None,\n",
       "   'source_url': 'http://techcrunch.com/2013/02/22/orange-acquired-dailymotion-for-168-million-by-buying-out-the-remaining-51-stake/',\n",
       "   'source_description': 'Orange Acquired Dailymotion For $168 Million By Buying Out Remaining 51% Stake [Update: Orange Confirms]',\n",
       "   'acquired_year': 2013,\n",
       "   'acquired_month': 2,\n",
       "   'acquired_day': 22,\n",
       "   'acquiring_company': {'name': 'Orange', 'permalink': 'orange'}}}]"
      ]
     },
     "execution_count": 89,
     "metadata": {},
     "output_type": "execute_result"
    }
   ],
   "source": [
    "query = {\"acquisition.acquired_month\":{\"$lte\":3}}\n",
    "cur=list(db.companies.find(query,{\"name\":1, \"acquisition\":1}).limit(10))\n",
    "cur"
   ]
  },
  {
   "cell_type": "markdown",
   "metadata": {},
   "source": [
    "# Bonus\n",
    "### 19. All the companies that have been founded between 2000 and 2010, but have not been acquired before 2011."
   ]
  },
  {
   "cell_type": "code",
   "execution_count": null,
   "metadata": {},
   "outputs": [],
   "source": [
    "# Your Code"
   ]
  },
  {
   "cell_type": "markdown",
   "metadata": {},
   "source": [
    "### 20. All the companies that have been 'deadpooled' after the third year."
   ]
  },
  {
   "cell_type": "code",
   "execution_count": null,
   "metadata": {},
   "outputs": [],
   "source": [
    "# Your Code"
   ]
  }
 ],
 "metadata": {
  "kernelspec": {
   "display_name": "Python 3",
   "language": "python",
   "name": "python3"
  },
  "language_info": {
   "codemirror_mode": {
    "name": "ipython",
    "version": 3
   },
   "file_extension": ".py",
   "mimetype": "text/x-python",
   "name": "python",
   "nbconvert_exporter": "python",
   "pygments_lexer": "ipython3",
   "version": "3.7.7"
  }
 },
 "nbformat": 4,
 "nbformat_minor": 2
}
